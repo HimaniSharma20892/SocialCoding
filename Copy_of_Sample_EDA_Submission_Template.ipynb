{
  "nbformat": 4,
  "nbformat_minor": 0,
  "metadata": {
    "colab": {
      "private_outputs": true,
      "provenance": [],
      "collapsed_sections": [
        "gIfDvo9L0UH2"
      ],
      "include_colab_link": true
    },
    "kernelspec": {
      "name": "python3",
      "display_name": "Python 3"
    },
    "language_info": {
      "name": "python"
    }
  },
  "cells": [
    {
      "cell_type": "markdown",
      "metadata": {
        "id": "view-in-github",
        "colab_type": "text"
      },
      "source": [
        "<a href=\"https://colab.research.google.com/github/HimaniSharma20892/SocialCoding/blob/EDA_Project/Copy_of_Sample_EDA_Submission_Template.ipynb\" target=\"_parent\"><img src=\"https://colab.research.google.com/assets/colab-badge.svg\" alt=\"Open In Colab\"/></a>"
      ]
    },
    {
      "cell_type": "markdown",
      "source": [
        "# **Project Name**    -  **Global Terrorism Dataset**\n",
        "\n",
        "\n"
      ],
      "metadata": {
        "id": "vncDsAP0Gaoa"
      }
    },
    {
      "cell_type": "markdown",
      "source": [
        "##### **Project Type**    - EDA\n",
        "##### **Contribution**    - Individual\n",
        "##### **Contributor - Himani Sharma"
      ],
      "metadata": {
        "id": "beRrZCGUAJYm"
      }
    },
    {
      "cell_type": "markdown",
      "source": [
        "# **Project Summary -**"
      ],
      "metadata": {
        "id": "FJNUwmbgGyua"
      }
    },
    {
      "cell_type": "markdown",
      "source": [
        "Write the summary here within 500-600 words.\n",
        "\n",
        "The Global Terrorism Database™ (GTD) is an open-source database including information on terrorist events around the world from 1970 through 2020 (with additional annual updates planned for the future). Unlike many other event databases, the GTD includes systematic data on domestic as well as transnational and international terrorist incidents that have occurred during this time period and now includes more than 200,000 cases. For each GTD incident, information is available on the date and location of the incident, the weapons used and nature of the target, the number of casualties, and--when identifiable--the group or individual responsiblity."
      ],
      "metadata": {
        "id": "F6v_1wHtG2nS"
      }
    },
    {
      "cell_type": "markdown",
      "source": [
        "# **GitHub Link -**"
      ],
      "metadata": {
        "id": "w6K7xa23Elo4"
      }
    },
    {
      "cell_type": "markdown",
      "source": [
        "Provide your GitHub Link here.\n",
        "\n",
        "https://github.com/HimaniSharma20892/SocialCoding/tree/Feature_Branch_01"
      ],
      "metadata": {
        "id": "h1o69JH3Eqqn"
      }
    },
    {
      "cell_type": "markdown",
      "source": [
        "# **Problem Statement**\n"
      ],
      "metadata": {
        "id": "yQaldy8SH6Dl"
      }
    },
    {
      "cell_type": "markdown",
      "source": [
        "**Write Problem Statement Here.**\n",
        "\n",
        "Problem Statement:\n",
        "\n",
        "\n",
        "\n",
        "*   Efficient approach of the problem statement\n",
        "*   Data Exploration techniques like logic of missing values , handling outliers etc.\n",
        "* Visualization logic and insights giving meaningful understandings\n",
        "* Useful Project Analysis for end user"
      ],
      "metadata": {
        "id": "DpeJGUA3kjGy"
      }
    },
    {
      "cell_type": "markdown",
      "source": [
        "# **General Guidelines** : -  "
      ],
      "metadata": {
        "id": "mDgbUHAGgjLW"
      }
    },
    {
      "cell_type": "markdown",
      "source": [
        "1.   Well-structured, formatted, and commented code is required.\n",
        "2.   Exception Handling, Production Grade Code & Deployment Ready Code will be a plus. Those students will be awarded some additional credits.\n",
        "     \n",
        "     The additional credits will have advantages over other students during Star Student selection.\n",
        "       \n",
        "             [ Note: - Deployment Ready Code is defined as, the whole .ipynb notebook should be executable in one go\n",
        "                       without a single error logged. ]\n",
        "\n",
        "3.   Each and every logic should have proper comments.\n",
        "4. You may add as many number of charts you want. Make Sure for each and every chart the following format should be answered.\n",
        "        \n",
        "\n",
        "```\n",
        "# Chart visualization code\n",
        "```\n",
        "            \n",
        "\n",
        "*   Why did you pick the specific chart?\n",
        "*   What is/are the insight(s) found from the chart?\n",
        "* Will the gained insights help creating a positive business impact?\n",
        "Are there any insights that lead to negative growth? Justify with specific reason.\n",
        "\n",
        "5. You have to create at least 20 logical & meaningful charts having important insights.\n",
        "\n",
        "\n",
        "[ Hints : - Do the Vizualization in  a structured way while following \"UBM\" Rule.\n",
        "\n",
        "U - Univariate Analysis,\n",
        "\n",
        "B - Bivariate Analysis (Numerical - Categorical, Numerical - Numerical, Categorical - Categorical)\n",
        "\n",
        "M - Multivariate Analysis\n",
        " ]\n",
        "\n",
        "\n",
        "\n"
      ],
      "metadata": {
        "id": "ZrxVaUj-hHfC"
      }
    },
    {
      "cell_type": "markdown",
      "source": [
        "# ***Let's Begin !***"
      ],
      "metadata": {
        "id": "O_i_v8NEhb9l"
      }
    },
    {
      "cell_type": "markdown",
      "source": [
        "## ***1. Know Your Data***"
      ],
      "metadata": {
        "id": "HhfV-JJviCcP"
      }
    },
    {
      "cell_type": "markdown",
      "source": [
        "### Import Libraries"
      ],
      "metadata": {
        "id": "Y3lxredqlCYt"
      }
    },
    {
      "cell_type": "code",
      "source": [
        "# Import Libraries\n",
        "import numpy as np\n",
        "import pandas as pd\n",
        "import matplotlib.pyplot as plt\n",
        "import seaborn as sns"
      ],
      "metadata": {
        "id": "M8Vqi-pPk-HR"
      },
      "execution_count": null,
      "outputs": []
    },
    {
      "cell_type": "markdown",
      "source": [
        "### Dataset Loading"
      ],
      "metadata": {
        "id": "3RnN4peoiCZX"
      }
    },
    {
      "cell_type": "code",
      "source": [
        "# Load Dataset\n",
        "from google.colab import drive\n",
        "drive.mount('/content/drive')\n",
        "\n",
        "import pandas as pd\n",
        "file_path='/content/drive/MyDrive/Data Sets/Global Terrorism Data.csv'\n",
        "global_terrorism_df=pd.read_csv(file_path, encoding = \"ISO-8859-1\")\n",
        "global_terrorism_df.head()"
      ],
      "metadata": {
        "id": "4CkvbW_SlZ_R"
      },
      "execution_count": null,
      "outputs": []
    },
    {
      "cell_type": "markdown",
      "source": [
        "### Dataset First View"
      ],
      "metadata": {
        "id": "x71ZqKXriCWQ"
      }
    },
    {
      "cell_type": "code",
      "source": [
        "# Dataset First Look\n",
        "global_terrorism_df.head()\n",
        "global_terrorism_df.columns\n",
        "global_terrorism_df.describe()"
      ],
      "metadata": {
        "id": "LWNFOSvLl09H"
      },
      "execution_count": null,
      "outputs": []
    },
    {
      "cell_type": "markdown",
      "source": [
        "### Dataset Rows & Columns count"
      ],
      "metadata": {
        "id": "7hBIi_osiCS2"
      }
    },
    {
      "cell_type": "code",
      "source": [
        "# Dataset Rows & Columns count\n",
        "global_terrorism_df.shape"
      ],
      "metadata": {
        "id": "Kllu7SJgmLij"
      },
      "execution_count": null,
      "outputs": []
    },
    {
      "cell_type": "markdown",
      "source": [
        "### Dataset Information"
      ],
      "metadata": {
        "id": "JlHwYmJAmNHm"
      }
    },
    {
      "cell_type": "code",
      "source": [
        "# Dataset Info\n",
        "global_terrorism_df.info(5)"
      ],
      "metadata": {
        "id": "e9hRXRi6meOf"
      },
      "execution_count": null,
      "outputs": []
    },
    {
      "cell_type": "markdown",
      "source": [
        "#### Duplicate Values"
      ],
      "metadata": {
        "id": "35m5QtbWiB9F"
      }
    },
    {
      "cell_type": "code",
      "source": [
        "# Dataset Duplicate Value Count\n",
        "global_terrorism_df[global_terrorism_df.duplicated()]"
      ],
      "metadata": {
        "id": "1sLdpKYkmox0"
      },
      "execution_count": null,
      "outputs": []
    },
    {
      "cell_type": "markdown",
      "source": [
        "#### Missing Values/Null Values"
      ],
      "metadata": {
        "id": "PoPl-ycgm1ru"
      }
    },
    {
      "cell_type": "code",
      "source": [
        "# Missing Values/Null Values Count\n",
        "global_terrorism_df.isna().count()"
      ],
      "metadata": {
        "id": "GgHWkxvamxVg"
      },
      "execution_count": null,
      "outputs": []
    },
    {
      "cell_type": "code",
      "source": [
        "# Visualizing the missing values\n",
        "import numpy as np\n",
        "global_terrorism_df.fillna(np.nan)\n",
        "global_terrorism_df.dropna(axis='columns',inplace=True)"
      ],
      "metadata": {
        "id": "3q5wnI3om9sJ"
      },
      "execution_count": null,
      "outputs": []
    },
    {
      "cell_type": "markdown",
      "source": [
        "### What did you know about your dataset?"
      ],
      "metadata": {
        "id": "H0kj-8xxnORC"
      }
    },
    {
      "cell_type": "code",
      "source": [
        "global_terrorism_df.head()"
      ],
      "metadata": {
        "id": "-PrJzWradve0"
      },
      "execution_count": null,
      "outputs": []
    },
    {
      "cell_type": "markdown",
      "source": [
        "## ***2. Understanding Your Variables***"
      ],
      "metadata": {
        "id": "nA9Y7ga8ng1Z"
      }
    },
    {
      "cell_type": "code",
      "source": [
        "## Yearwise attacks on Countries in increasing trend:\n",
        "import pandas as pd\n",
        "import numpy as np\n",
        "import matplotlib.pyplot as pyplt\n",
        "global_terrorism_df\n",
        "Attack_Year=global_terrorism_df['iyear']\n",
        "Attack_count=global_terrorism_df['attacktype1']\n",
        "Country_name=global_terrorism_df['country_txt']\n",
        "\n",
        "Data={'Attack_Year':Attack_Year,'Attack_count':Attack_count,'Country':Country_name}\n",
        "\n",
        "heatmap_df=pd.DataFrame(Data)\n",
        "heatmap_df=heatmap_df.sort_values(['Attack_Year'],ascending=False)\n",
        "heatmap_df=heatmap_df.drop_duplicates(subset=['Attack_count','Country'])\n",
        "#heatmap_df=heatmap_df.set_index('Attack_Year')\n",
        "heatmap_df=heatmap_df.groupby(['Attack_Year','Country'])['Attack_Year','Attack_count'].agg({'Attack_count':'sum'})\n",
        "heatmap_df.head().sort_values(['Attack_Year','Attack_count'],ascending=False).reset_index()\n",
        "\n",
        "heatmap_df\n"
      ],
      "metadata": {
        "id": "j7xfkqrt5Ag5"
      },
      "execution_count": null,
      "outputs": []
    },
    {
      "cell_type": "code",
      "source": [
        "#Attacks on India Yearwise\n",
        "file_path='/content/drive/MyDrive/Data Sets/Global Terrorism Data.csv'\n",
        "India_df=pd.read_csv(file_path, encoding = \"ISO-8859-1\")\n",
        "\n",
        "India_df=India_df.loc[India_df.loc[:,'country_txt']=='India']\n",
        "country=India_df['country_txt']\n",
        "attack_count=India_df['attacktype1']\n",
        "year=India_df['iyear']\n",
        "\n",
        "Data={'country':country,'attack_count':attack_count,'year':year}\n",
        "\n",
        "Country_df=pd.DataFrame(Data)\n",
        "Country_df=Country_df.sort_values(['year','attack_count'],ascending=False)\n",
        "#Country_df=Country_df.drop_duplicates()\n",
        "Country_df=Country_df.groupby(['year','country'])['attack_count','country','year'].agg({'attack_count':'sum'}).reset_index()\n",
        "Country_df=Country_df.sort_values(['year','attack_count'],ascending=False).reset_index()\n",
        "\n",
        "\n",
        "Country_df.head(20)\n",
        "\n",
        "\n",
        "\n",
        "#India_df.apply(lambda x: sum(x['Attack_count']))\n",
        "#India_df=India_df['Attack_count'].apply(lambda x: sum(x))\n"
      ],
      "metadata": {
        "id": "ccliXjPfBNZc"
      },
      "execution_count": null,
      "outputs": []
    },
    {
      "cell_type": "code",
      "source": [
        "sns.barplot(data=Country_df.head(20), y=\"attack_count\", x=\"year\")\n",
        "plt.xticks(rotation=45)"
      ],
      "metadata": {
        "id": "uQquqSfyHe-1"
      },
      "execution_count": null,
      "outputs": []
    },
    {
      "cell_type": "code",
      "source": [
        "#Attacks comparison in India vs Afghanistan yearwise:\n",
        "file_path='/content/drive/MyDrive/Data Sets/Global Terrorism Data.csv'\n",
        "India_df_1=pd.read_csv(file_path, encoding = \"ISO-8859-1\")\n",
        "\n",
        "x1 = ['India','Afghanistan'] #, 'versicolor']\n",
        "India_df_1=India_df_1.query('country_txt in @x1')\n",
        "India_df_1\n",
        "\n",
        "country=India_df_1['country_txt']\n",
        "attack_count=India_df_1['attacktype1']\n",
        "year=India_df_1['iyear']\n",
        "\n",
        "Data1={'country':country,'attack_count':attack_count,'year':year}\n",
        "\n",
        "Countries_df=pd.DataFrame(Data1)\n",
        "#Country_df=Country_df.sort_values(['year','attack_count'],ascending=False)\n",
        "Countries_df=Countries_df.groupby(['year','country'])['attack_count','country','year'].agg({'attack_count':'sum'}).reset_index()\n",
        "Countries_df=Countries_df.sort_values(['year','attack_count'],ascending=False).reset_index()\n",
        "\n",
        "\n",
        "Countries_df\n",
        "\n"
      ],
      "metadata": {
        "id": "wfII2lU6K6Yj"
      },
      "execution_count": null,
      "outputs": []
    },
    {
      "cell_type": "code",
      "source": [
        "Countries_df=Countries_df.head(10)\n",
        "colors=['m']\n",
        "Countries_df.plot(x='country', kind='bar', stacked=True,title='Stacked Bar Graph for Terrorist attackwise Yearwise',color=colors)\n",
        "#plt.show()"
      ],
      "metadata": {
        "id": "LK7cg9jJgmUl"
      },
      "execution_count": null,
      "outputs": []
    },
    {
      "cell_type": "code",
      "source": [
        "#Transposed Data Frame for attack counts Yearwise in India and Afganistan\n",
        "Countries_df1= Countries_df #transposed_df = Countries_df.transpose()\n",
        "Countries_df1=Countries_df1.set_index('year')\n",
        "Countries_df1=Countries_df1.drop(['index'],axis=1)\n",
        "transposed_df = Countries_df1.transpose()\n",
        "#df.iloc [0:2, 1:3]\n",
        "transposed_df=transposed_df.iloc[:,0:6]\n",
        "transposed_df\n",
        "\n"
      ],
      "metadata": {
        "id": "kvyM1infTP2B"
      },
      "execution_count": null,
      "outputs": []
    },
    {
      "cell_type": "code",
      "source": [
        "#Top 5 Countries with Maximum number of Attacks Yearwise\n",
        "attacktype_per_country=global_terrorism_df['attacktype1']\n",
        "attacktype_per_country=pd.DataFrame(attacktype_per_country)\n",
        "attacktype_per_country=attacktype_per_country['attacktype1']\n",
        "attacktype_per_country\n",
        "\n",
        "country_name=global_terrorism_df['country_txt']\n",
        "country_name=pd.DataFrame(country_name)\n",
        "country_name=country_name['country_txt']\n",
        "#Attack_type =country_name[-1]\n",
        "country_name\n",
        "\n",
        "Year=global_terrorism_df['iyear']\n",
        "Data={'Country':country_name,'Attack Type':attacktype_per_country,'Year':Year}\n",
        "\n",
        "new_df=pd.DataFrame(Data)\n",
        "new_df\n",
        "#new_df=new_df.drop_duplicates()\n",
        "new_df=new_df.groupby(['Year','Country'])['Attack Type','Country','Year'].agg({'Attack Type':'sum'}).reset_index()\n",
        "new_df=new_df.sort_values(['Year','Attack Type'],ascending=False).reset_index()\n",
        "new_df.head()"
      ],
      "metadata": {
        "id": "MT0Pl5aQeSIA"
      },
      "execution_count": null,
      "outputs": []
    },
    {
      "cell_type": "code",
      "source": [
        "data = new_df['Attack Type'].head()\n",
        "keys = new_df['Country'].head()\n",
        "palette_color = sns.color_palette('bright')\n",
        "\n",
        "# plotting data on chart\n",
        "plt.pie(data, labels=keys, colors=palette_color, autopct='%.0f%%')\n",
        "\n",
        "# displaying chart\n",
        "plt.show()\n",
        "\n",
        "\n",
        "#global_terrorism_df.head()"
      ],
      "metadata": {
        "id": "KiWLGwqYeWUx"
      },
      "execution_count": null,
      "outputs": []
    },
    {
      "cell_type": "code",
      "source": [
        "#Top 5 countries with maximum successful attempts of terrorist attacks wrt year\n",
        "attack_success=global_terrorism_df['success']\n",
        "attack_success\n",
        "\n",
        "attacked_countries=global_terrorism_df['country_txt']\n",
        "attacked_countries\n",
        "\n",
        "attacked_year=global_terrorism_df['iyear']\n",
        "attacked_year\n",
        "Data={'Attack Success':attack_success,'Attacked Countries':attacked_countries,'Attacked_year':attacked_year}\n",
        "\n",
        "attack_success_count_per_country=pd.DataFrame(Data)\n",
        "attack_success_count_per_country=attack_success_count_per_country.groupby(['Attacked_year','Attacked Countries'])['Attack Success','Attacked_year'].agg({'Attack Success':'sum'}).reset_index()\n",
        "attack_success_count_per_country=attack_success_count_per_country.sort_values(['Attacked_year','Attack Success'],ascending=False)\n",
        "attack_success_count_per_country.head()"
      ],
      "metadata": {
        "id": "fIW8emujeZ90"
      },
      "execution_count": null,
      "outputs": []
    },
    {
      "cell_type": "code",
      "source": [
        "x=attack_success_count_per_country['Attacked Countries'].head()\n",
        "plt.xticks(rotation=45)\n",
        "y=attack_success_count_per_country['Attack Success'].head()\n",
        "hue=attack_success_count_per_country['Attacked_year'].head()\n",
        "\n",
        "plt.plot(x,y)\n",
        "plt.xlabel('Countries')\n",
        "plt.ylabel('No of Attacks')\n",
        "plt.title('Successful attack attempts wrt Year')"
      ],
      "metadata": {
        "id": "147fXmnzeZ6U"
      },
      "execution_count": null,
      "outputs": []
    },
    {
      "cell_type": "code",
      "source": [
        "#Top Target Type in each Country wrt Year\n",
        "Target_Type=global_terrorism_df['targtype1_txt']\n",
        "Country_Name=global_terrorism_df['country_txt']\n",
        "Attack_Year=global_terrorism_df['iyear']\n",
        "\n",
        "Data1={'Target_Type':Target_Type,'Country_Name':Country_Name,'Attack_Year':Attack_Year}\n",
        "Max_Target_type_df=pd.DataFrame(Data1)\n",
        "Max_Target_type_df=Max_Target_type_df.groupby(['Attack_Year','Country_Name','Target_Type'])['Target_Type'].count().reset_index(name='Targets')\n",
        "Max_Target_type_df=Max_Target_type_df.sort_values('Targets',ascending=False).reset_index()\n",
        "Max_Target_type_df=Max_Target_type_df.head(25)\n",
        "Max_Target_type_df\n"
      ],
      "metadata": {
        "id": "k_60oLaIehiQ"
      },
      "execution_count": null,
      "outputs": []
    },
    {
      "cell_type": "code",
      "source": [
        "sns.boxplot(x=Max_Target_type_df['Targets'], y=Max_Target_type_df['Country_Name'], hue=Max_Target_type_df['Target_Type'])\n",
        "plt.title('Top Targets in each country')"
      ],
      "metadata": {
        "id": "bSF5P2MAeleQ"
      },
      "execution_count": null,
      "outputs": []
    },
    {
      "cell_type": "code",
      "source": [
        "sns.scatterplot(x=Max_Target_type_df['Targets'], y=Max_Target_type_df['Country_Name'], hue=Max_Target_type_df['Target_Type'])\n",
        "plt.title('Top Targets in each country')"
      ],
      "metadata": {
        "id": "GdlmyqgxepM-"
      },
      "execution_count": null,
      "outputs": []
    },
    {
      "cell_type": "code",
      "source": [
        "#Top Gangnames responsible for maximum attacks in each country wrt year\n",
        "Gangname=global_terrorism_df['gname']\n",
        "attack=global_terrorism_df['attacktype1']\n",
        "country=global_terrorism_df['country_txt']\n",
        "AttackYear=global_terrorism_df['iyear']\n",
        "\n",
        "Data2={'Gangname':Gangname,'attack':attack,'country':country,'AttackYear':AttackYear}\n",
        "Most_wanted_gangname= pd.DataFrame(Data2)\n",
        "Most_wanted_gangname=Most_wanted_gangname.groupby(['Gangname','AttackYear','country'])['attack','country'].agg({'attack':'sum'}).reset_index()\n",
        "Most_wanted_gangname=Most_wanted_gangname.sort_values(['AttackYear','attack'],ascending=False)\n",
        "Most_wanted_gangname=Most_wanted_gangname.replace('Unknown',np.nan)\n",
        "Most_wanted_gangname=Most_wanted_gangname.dropna().reset_index()\n",
        "Most_wanted_gangname=Most_wanted_gangname.set_index('attack')\n",
        "Most_wanted_gangname=Most_wanted_gangname.drop('index',axis=1)\n",
        "Most_wanted_gangname=Most_wanted_gangname.head(20).reset_index()\n",
        "Most_wanted_gangname"
      ],
      "metadata": {
        "id": "TPl-Z2t8et49"
      },
      "execution_count": null,
      "outputs": []
    },
    {
      "cell_type": "code",
      "source": [
        "sns.pairplot(data=Most_wanted_gangname, hue=\"Gangname\",diag_kind=\"hist\")\n",
        "plt.xticks(rotation=90)"
      ],
      "metadata": {
        "id": "TopHObagexn1"
      },
      "execution_count": null,
      "outputs": []
    },
    {
      "cell_type": "code",
      "source": [
        "plt.xticks(rotation=45)\n",
        "sns.barplot(x = Most_wanted_gangname['Gangname'].head(),\n",
        "            y = Most_wanted_gangname['attack'].head(),\n",
        "            hue=Most_wanted_gangname['country'].head(),\n",
        "            data = Most_wanted_gangname.head())"
      ],
      "metadata": {
        "id": "Z8GEjV3ie1aP"
      },
      "execution_count": null,
      "outputs": []
    },
    {
      "cell_type": "code",
      "source": [
        "#Maximum attacked location w.r.t country\n",
        "file_path='/content/drive/MyDrive/Data Sets/Global Terrorism Data.csv'\n",
        "global_terrorism_df_2=pd.read_csv(file_path, encoding = \"ISO-8859-1\")\n",
        "global_terrorism_df_2.columns\n",
        "Latitude=global_terrorism_df_2['latitude']\n",
        "Longitude=global_terrorism_df_2['longitude']\n",
        "country=global_terrorism_df_2['country_txt']\n",
        "\n",
        "Data3={'Latitude':Latitude,'Longitude':Longitude,'country':country}\n",
        "\n",
        "Attack_location_df=pd.DataFrame(Data3)\n",
        "Attack_location_df=Attack_location_df.groupby(['country','Latitude','Longitude'])['Latitude','Longitude'].agg(Location_count=('Latitude','count')).reset_index()\n",
        "Attack_location_df=Attack_location_df.sort_values(['Location_count','country'],ascending=False).reset_index()\n",
        "Attack_location_df.head(10)"
      ],
      "metadata": {
        "id": "sD1AaCv4fC7t"
      },
      "execution_count": null,
      "outputs": []
    },
    {
      "cell_type": "code",
      "source": [
        "x=Attack_location_df['country'].head()\n",
        "y=Attack_location_df['Location_count'].head()\n",
        "plt.barh(x,y, color=['black', 'red', 'green', 'blue', 'cyan'])\n",
        "plt.xlabel('Maximum attack count at same location ')\n",
        "plt.ylabel('Countries Name')\n",
        "plt.title('Plot representing Maximum attack count at same location w.r.t country')"
      ],
      "metadata": {
        "id": "x3UpdAZlfGgY"
      },
      "execution_count": null,
      "outputs": []
    },
    {
      "cell_type": "code",
      "source": [
        "#Top weapons used by gangname w.r.t. country\n",
        "global_terrorism_df_2\n",
        "weapon_type=global_terrorism_df_2['weaptype1_txt']\n",
        "gang_name=global_terrorism_df_2['gname']\n",
        "country=global_terrorism_df_2['country_txt']\n",
        "\n",
        "Data4={'weapon_type':weapon_type,'gang_name':gang_name,'country':country}\n",
        "\n",
        "Weapon_type_gangname=pd.DataFrame(Data4)\n",
        "Weapon_type_gangname=Weapon_type_gangname.replace('Unknown',np.nan)\n",
        "Weapon_type_gangname=Weapon_type_gangname.dropna()\n",
        "Weapon_type_gangname=Weapon_type_gangname.groupby(['gang_name','weapon_type','country'])['weapon_type','gang_name'].agg(weapon_count=('weapon_type','count')).reset_index()\n",
        "Weapon_type_gangname=Weapon_type_gangname.sort_values('weapon_count',ascending=False).reset_index()\n",
        "Weapon_type_gangname.head()"
      ],
      "metadata": {
        "id": "VmuqFpjdfK1G"
      },
      "execution_count": null,
      "outputs": []
    },
    {
      "cell_type": "code",
      "source": [
        "sns.scatterplot(y=Weapon_type_gangname[\"weapon_count\"].head(10), x=Weapon_type_gangname[\"gang_name\"].head(10), hue=Weapon_type_gangname[\"weapon_type\"].head(10))\n",
        "plt.xticks(rotation=90)\n",
        "plt.title('Top weapons used by gangname w.r.t. country')"
      ],
      "metadata": {
        "id": "iN6ArPOSfSgw"
      },
      "execution_count": null,
      "outputs": []
    },
    {
      "cell_type": "markdown",
      "source": [
        "# **Conclusion**"
      ],
      "metadata": {
        "id": "gCX9965dhzqZ"
      }
    },
    {
      "cell_type": "markdown",
      "source": [
        "Write the conclusion here.\n",
        "\n",
        "-Yearwise attacks on Countries in increasing trend and stored in tabular\n",
        "Dataframe.\n",
        "\n",
        "-Attacks on India Yearwise- It is following a trend of increase in number of attacks with every passing year.\n",
        "\n",
        "-Attacks comparison in India vs Afghanistan yearwise- Graph represents number of attacks in Afghanistan are higher than India every year\n",
        "\n",
        "-Top 5 Countries with Maximum number of Attacks Yearwise- Iraq is suffered with maximum number of attacks , which is as big as 8880 in 2017, followed by Afghanistan and India.\n",
        "\n",
        "-Top 5 countries with maximum successful attempts of terrorist attacks wrt year- Again , Iraq is suffered with maximum successful attacks in 2017 followed by Afganistan and India\n",
        "\n",
        "-Top Target Type in each Country wrt Year- Mostly Private Citizens & Property\tis targeted by Terrorists in Iraq, followed by Police and Militiary camps for attacks in 2017.\n",
        "\n",
        "-Top Gangnames responsible for maximum attacks in each country wrt year- In 2017 ,Islamic State of Iraq and the Levant (ISIL) gang from Iraq is responsible for maximum attacks , followed by Taliban and Al-Shabaab.\n",
        "\n",
        "-Maximum attacked location w.r.t country- Mostly Iraq is attacked at a Latitude of 33.303566 and Longitude of 44.371773\n",
        "\n",
        "-Top weapons used by gangname w.r.t. country- Most of the time explosives are used by Islamic State of Iraq and the Levant (ISIL) for attack in Iraq.\n"
      ],
      "metadata": {
        "id": "Fjb1IsQkh3yE"
      }
    },
    {
      "cell_type": "markdown",
      "source": [
        "### ***Hurrah! You have successfully completed your EDA Capstone Project !!!***"
      ],
      "metadata": {
        "id": "gIfDvo9L0UH2"
      }
    }
  ]
}